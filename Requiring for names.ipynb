{
 "cells": [
  {
   "cell_type": "markdown",
   "metadata": {},
   "source": [
    "# Requiring for names"
   ]
  },
  {
   "cell_type": "markdown",
   "metadata": {},
   "source": [
    "In this program we used the option of making a list with different values that we gave to the input, and then, we choose which one of those values in the variable list we want to display."
   ]
  },
  {
   "cell_type": "code",
   "execution_count": 2,
   "metadata": {},
   "outputs": [
    {
     "name": "stdout",
     "output_type": "stream",
     "text": [
      "\n",
      "How many names do you want to register? 5\n",
      "\n",
      "Please, give me the names: Josue\n",
      "\n",
      "Please, give me the names: Daniel\n",
      "\n",
      "Please, give me the names: Erick\n",
      "\n",
      "Please, give me the names: Alejandro\n",
      "\n",
      "Please, give me the names: Diego\n",
      "\n",
      "Which name do you want to visualize, master? 2\n",
      "\n",
      "The name is Erick\n"
     ]
    }
   ],
   "source": [
    "number = int(input(\"\\nHow many names do you want to register? \"))\n",
    "names = []\n",
    "\n",
    "for i in range(0, number):\n",
    "    x = input(\"\\nPlease, give me the names: \")\n",
    "    names.append(x)\n",
    "    \n",
    "z = int(input(\"\\nWhich name do you want to visualize, master? \"))\n",
    "print(f\"\\nThe name is {names[z]}\")"
   ]
  },
  {
   "cell_type": "code",
   "execution_count": null,
   "metadata": {},
   "outputs": [],
   "source": []
  }
 ],
 "metadata": {
  "kernelspec": {
   "display_name": "Python 3",
   "language": "python",
   "name": "python3"
  },
  "language_info": {
   "codemirror_mode": {
    "name": "ipython",
    "version": 3
   },
   "file_extension": ".py",
   "mimetype": "text/x-python",
   "name": "python",
   "nbconvert_exporter": "python",
   "pygments_lexer": "ipython3",
   "version": "3.7.4"
  }
 },
 "nbformat": 4,
 "nbformat_minor": 2
}
