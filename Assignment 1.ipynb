{
 "cells": [
  {
   "cell_type": "markdown",
   "metadata": {},
   "source": [
    "# Introduction to Phyton"
   ]
  },
  {
   "cell_type": "markdown",
   "metadata": {},
   "source": [
    "## Exercise 1: A Good First Program"
   ]
  },
  {
   "cell_type": "code",
   "execution_count": 34,
   "metadata": {},
   "outputs": [
    {
     "name": "stdout",
     "output_type": "stream",
     "text": [
      "Hello everyone!\n",
      "Bonjour for francophones\n",
      "Ciao for italophones\n",
      "Hola for spanish speakers\n",
      "Hallo for german speakers\n",
      "Olá for portuguese speakers\n",
      "Привет... what?\n"
     ]
    }
   ],
   "source": [
    "print(\"Hello everyone!\")\n",
    "print(\"Bonjour for francophones\")\n",
    "print(\"Ciao for italophones\")\n",
    "print(\"Hola for spanish speakers\")\n",
    "print(\"Hallo for german speakers\")\n",
    "print(\"Olá for portuguese speakers\")\n",
    "print(\"Привет... what?\")"
   ]
  },
  {
   "cell_type": "markdown",
   "metadata": {},
   "source": [
    "The purpose of this exercise is to learn how the \"print\" command works."
   ]
  },
  {
   "cell_type": "markdown",
   "metadata": {},
   "source": [
    "## Exercise 2: Comments and Pound Characters"
   ]
  },
  {
   "cell_type": "code",
   "execution_count": 35,
   "metadata": {},
   "outputs": [
    {
     "name": "stdout",
     "output_type": "stream",
     "text": [
      "This part of the code will run...\n",
      "This line will run\n"
     ]
    }
   ],
   "source": [
    "# This line is a comment, this part has not impact in the rest of the code\n",
    "# Let's see an example\n",
    "\n",
    "print(\"This part of the code will run...\") # but no this part\n",
    "\n",
    "# If you use a code in a comment, the code won't run\n",
    "# print(\"This line won´t run\")\n",
    "\n",
    "print(\"This line will run\")"
   ]
  },
  {
   "cell_type": "markdown",
   "metadata": {},
   "source": [
    "In this exercise we can see how comments work in a code."
   ]
  },
  {
   "cell_type": "markdown",
   "metadata": {},
   "source": [
    "## Exercise 3: Numbers and Math"
   ]
  },
  {
   "cell_type": "code",
   "execution_count": 36,
   "metadata": {},
   "outputs": [
    {
     "name": "stdout",
     "output_type": "stream",
     "text": [
      "Let's count my horses:\n",
      "Horses 7.0\n",
      "Mares 52\n",
      "Now the youngers\n",
      "14.8\n",
      "Is it true that 5 + 8 < 15 - 5?\n",
      "True\n",
      "What is 5 + 8? 13\n",
      "What is 15 - 5? 10\n",
      "Oh, it is false :o\n",
      "Is it greater? True\n",
      "Is it greater or equal? True\n",
      "Is it less or equal? False\n"
     ]
    }
   ],
   "source": [
    "print(\"Let's count my horses:\")\n",
    "\n",
    "print(\"Horses\", 4 + 6 /2)\n",
    "print(\"Mares\", 100 - 50 + 2 % 5)\n",
    "\n",
    "print(\"Now the youngers\")\n",
    "\n",
    "print(5 + 10 - 5 + 2 % 2 - 1 / 5 + 5)\n",
    "\n",
    "print(\"Is it true that 5 + 8 < 15 - 5?\")\n",
    "\n",
    "print(5 + 8 < 15 - 1)\n",
    "\n",
    "print(\"What is 5 + 8?\", 5 + 8)\n",
    "print(\"What is 15 - 5?\", 15 - 5)\n",
    "\n",
    "print(\"Oh, it is false :o\")\n",
    "\n",
    "print(\"Is it greater?\", 10 > 5)\n",
    "print(\"Is it greater or equal?\", 10 >= 5)\n",
    "print(\"Is it less or equal?\", 10 <= 5)"
   ]
  },
  {
   "cell_type": "markdown",
   "metadata": {},
   "source": [
    "With this exercise we can know how to do operations in a code."
   ]
  },
  {
   "cell_type": "markdown",
   "metadata": {},
   "source": [
    "## Exercise 4: Variables and Names"
   ]
  },
  {
   "cell_type": "code",
   "execution_count": 37,
   "metadata": {},
   "outputs": [
    {
     "name": "stdout",
     "output_type": "stream",
     "text": [
      "In a hotel there are 50 rooms available.\n",
      "There are 20 guests in the hotel.\n",
      "All the guests will have a roomie, so we will have 10.0 rooms occupied.\n",
      "So, now in the hotel there are 30 rooms available for future guests.\n"
     ]
    }
   ],
   "source": [
    "rooms = 50\n",
    "room_space = 2\n",
    "guests = 20\n",
    "rooms_occupied = guests / room_space\n",
    "empty_rooms = rooms - guests\n",
    "\n",
    "print(\"In a hotel there are\", rooms, \"rooms available.\")\n",
    "print(\"There are\", guests, \"guests in the hotel.\")\n",
    "print(\"All the guests will have a roomie, so we will have\", rooms_occupied, \"rooms occupied.\")\n",
    "print(\"So, now in the hotel there are\", empty_rooms, \"rooms available for future guests.\")"
   ]
  },
  {
   "cell_type": "markdown",
   "metadata": {},
   "source": [
    "In this exercise we can see how to make variables and give them a value."
   ]
  },
  {
   "cell_type": "markdown",
   "metadata": {},
   "source": [
    "## Exercise 5: More Variables and Printing"
   ]
  },
  {
   "cell_type": "code",
   "execution_count": 45,
   "metadata": {},
   "outputs": [
    {
     "name": "stdout",
     "output_type": "stream",
     "text": [
      "Let's talk about Tampico\n",
      "It has a population of 314418\n",
      "With a tropical savanna climate\n",
      "The municipality has an area of 92.73 square kilometres\n",
      "If we divide 92.73 by 314418 we obtain 0.0002949258630231094\n"
     ]
    }
   ],
   "source": [
    "city = 'Tampico'\n",
    "population = 314418\n",
    "climate = 'tropical savanna'\n",
    "area = 92.73\n",
    "\n",
    "print(f\"Let's talk about {city}\")\n",
    "print(f\"It has a population of {population}\")\n",
    "print(f\"With a {climate} climate\")\n",
    "print(f\"The municipality has an area of {area} square kilometres\")\n",
    "\n",
    "#The next line is just to complete the example exercise, sorry\n",
    "\n",
    "total= area / population\n",
    "print(f\"If we divide {area} by {population} we obtain {total}\")"
   ]
  },
  {
   "cell_type": "markdown",
   "metadata": {},
   "source": [
    "In this exercise we can understand clearly how to use variables in operations and show them in the code."
   ]
  },
  {
   "cell_type": "markdown",
   "metadata": {},
   "source": [
    "## Exercise 6: Strings and Text"
   ]
  },
  {
   "cell_type": "markdown",
   "metadata": {},
   "source": [
    "A string is usually a bit of text you want to display to someone or ”export” out of the program you are\n",
    "writing. Strings can contain any number of variables that are in your Python script."
   ]
  },
  {
   "cell_type": "code",
   "execution_count": 39,
   "metadata": {},
   "outputs": [
    {
     "name": "stdout",
     "output_type": "stream",
     "text": [
      "There are 10 types of people.\n",
      "Those who know binary and those who don't.\n",
      "I said: There are 10 types of people.\n",
      "I also said: 'Those who know binary and those who don't.'\n",
      "Isn't that joke so funny?! False\n",
      "This is the left side of...a string with a right side.\n"
     ]
    }
   ],
   "source": [
    "types_of_people = 10\n",
    "x = f\"There are {types_of_people} types of people.\"\n",
    "\n",
    "binary = \"binary\"\n",
    "do_not = \"don't\"\n",
    "y = f\"Those who know {binary} and those who {do_not}.\"\n",
    "\n",
    "print(x)\n",
    "print(y)\n",
    "\n",
    "print(f\"I said: {x}\")\n",
    "print(f\"I also said: '{y}'\")\n",
    "\n",
    "hilarious = False\n",
    "joke_evaluation = \"Isn't that joke so funny?! {}\"\n",
    "\n",
    "print(joke_evaluation.format(hilarious))\n",
    "\n",
    "w = \"This is the left side of...\"\n",
    "e = \"a string with a right side.\"\n",
    "\n",
    "print(w + e)"
   ]
  },
  {
   "cell_type": "markdown",
   "metadata": {},
   "source": [
    "As we can observe in this program, we can set numeric values or a text (string) to a variable, but if we want to set a string to the variable, we must put the string between quotations. When we print the program, we \"call\" the variables to display them, making the string to show up. We can also \"export\" a string by using the \".format()\" syntax, in addition to that, we can \"sum\" both strings to make them appear one beside the other."
   ]
  },
  {
   "cell_type": "markdown",
   "metadata": {},
   "source": [
    "## Exercise 7: More Printing"
   ]
  },
  {
   "cell_type": "code",
   "execution_count": 40,
   "metadata": {},
   "outputs": [
    {
     "name": "stdout",
     "output_type": "stream",
     "text": [
      "Mary had a little lamb.\n",
      "Its fleece was white as snow.\n",
      "And everywhere that Mary went.\n",
      "..........\n",
      "Cheese Burger\n"
     ]
    }
   ],
   "source": [
    "print(\"Mary had a little lamb.\")\n",
    "print(\"Its fleece was white as {}.\".format('snow'))\n",
    "print(\"And everywhere that Mary went.\")\n",
    "print(\".\" * 10)\n",
    "\n",
    "end1 = \"C\"\n",
    "end2 = \"h\"\n",
    "end3 = \"e\"\n",
    "end4 = \"e\"\n",
    "end5 = \"s\"\n",
    "end6 = \"e\"\n",
    "end7 = \"B\"\n",
    "end8 = \"u\"\n",
    "end9 = \"r\"\n",
    "end10 = \"g\"\n",
    "end11 = \"e\"\n",
    "end12 = \"r\"\n",
    "\n",
    "print(end1 + end2 + end3 + end4 + end5 + end6, end=' ')\n",
    "print(end7 + end8 + end9 + end10 + end11 + end12)"
   ]
  },
  {
   "cell_type": "markdown",
   "metadata": {},
   "source": [
    "In this exercise we practice the printing again, the  adding what we see the last exercise about adding strings that will display will be one next to each other, excluding the \", end=' '\" part, which use is for printing a blank space."
   ]
  },
  {
   "cell_type": "markdown",
   "metadata": {},
   "source": [
    "## Exercise 8: Printing, Printing"
   ]
  },
  {
   "cell_type": "code",
   "execution_count": 41,
   "metadata": {},
   "outputs": [
    {
     "name": "stdout",
     "output_type": "stream",
     "text": [
      "1 2 3 4\n",
      "one two three four\n",
      "True False False True\n",
      "{} {} {} {} {} {} {} {} {} {} {} {} {} {} {} {}\n",
      "I got a song in my heart and I'm bulletproof There's nothing in the world that's gonna kill this mood No matter what life wants to throw my way I'll be singing, I'll be singing in the rain\n"
     ]
    }
   ],
   "source": [
    "formatter = \"{} {} {} {}\"\n",
    "\n",
    "print(formatter.format(1, 2, 3, 4))\n",
    "print(formatter.format(\"one\", \"two\", \"three\", \"four\"))\n",
    "print(formatter.format(True, False, False, True))\n",
    "print(formatter.format(formatter, formatter, formatter, formatter))\n",
    "print(formatter.format(\n",
    "\"I got a song in my heart and I'm bulletproof\",\n",
    "\"There's nothing in the world that's gonna kill this mood\",\n",
    "\"No matter what life wants to throw my way\",\n",
    "\"I'll be singing, I'll be singing in the rain\"\n",
    "))"
   ]
  },
  {
   "cell_type": "markdown",
   "metadata": {},
   "source": [
    "This exercise showed us how to put a format, of four spaces in this case, to order the data that we want to display."
   ]
  },
  {
   "cell_type": "markdown",
   "metadata": {},
   "source": [
    "## Exercise 9: Printing, Printing, Printing"
   ]
  },
  {
   "cell_type": "code",
   "execution_count": 42,
   "metadata": {},
   "outputs": [
    {
     "name": "stdout",
     "output_type": "stream",
     "text": [
      "Here are the days:  Mon Tue Wed Thu Fri Sat Sun\n",
      "Here are the months:  Jan\n",
      "Feb\n",
      "Mar\n",
      "Apr\n",
      "May\n",
      "Jun\n",
      "Jul\n",
      "Aug\n",
      "\n",
      "There's something going on here.\n",
      "With the three double-quotes.\n",
      "We'll be able to type as much as we like.\n",
      "Even 4 lines if we want, or 5, or 6.\n",
      "\n"
     ]
    }
   ],
   "source": [
    "days = \"Mon Tue Wed Thu Fri Sat Sun\"\n",
    "months = \"Jan\\nFeb\\nMar\\nApr\\nMay\\nJun\\nJul\\nAug\"\n",
    "\n",
    "print(\"Here are the days: \", days)\n",
    "print(\"Here are the months: \", months)\n",
    "\n",
    "print(\"\"\"\n",
    "There's something going on here.\n",
    "With the three double-quotes.\n",
    "We'll be able to type as much as we like.\n",
    "Even 4 lines if we want, or 5, or 6.\n",
    "\"\"\")"
   ]
  },
  {
   "cell_type": "markdown",
   "metadata": {},
   "source": [
    "In this exercise we can appreciate how we can do some skips in the display of our data, using both (\\n) and the (\"\"\"...\"\"\")"
   ]
  },
  {
   "cell_type": "markdown",
   "metadata": {},
   "source": [
    "## Exercise 10: What Was That?"
   ]
  },
  {
   "cell_type": "code",
   "execution_count": 43,
   "metadata": {},
   "outputs": [
    {
     "name": "stdout",
     "output_type": "stream",
     "text": [
      "\tI'm tabbed in.\n",
      "I'm split\n",
      "on a line.\n",
      "I'm \\ a \\ cat.\n",
      "\n",
      "I'll do a list:\n",
      "\t* Cat food\n",
      "\t* Fishies\n",
      "\t* Catnip\n",
      "\t* Grass\n",
      "\n"
     ]
    }
   ],
   "source": [
    "tabby_cat = \"\\tI'm tabbed in.\"\n",
    "persian_cat = \"I'm split\\non a line.\"\n",
    "backslash_cat = \"I'm \\\\ a \\\\ cat.\"\n",
    "\n",
    "fat_cat = \"\"\"\n",
    "I'll do a list:\n",
    "\\t* Cat food\n",
    "\\t* Fishies\n",
    "\\t* Catnip\\n\\t* Grass\n",
    "\"\"\"\n",
    "\n",
    "print(tabby_cat)\n",
    "print(persian_cat)\n",
    "print(backslash_cat)\n",
    "print(fat_cat)"
   ]
  },
  {
   "cell_type": "markdown",
   "metadata": {},
   "source": [
    "This exercise teaches us some \"escape sequences\" that will help us to not have problems when we program using the backslash. I learn from this exercise how I can avoid to have issues with some special characters when tiping a string."
   ]
  }
 ],
 "metadata": {
  "kernelspec": {
   "display_name": "Python 3",
   "language": "python",
   "name": "python3"
  },
  "language_info": {
   "codemirror_mode": {
    "name": "ipython",
    "version": 3
   },
   "file_extension": ".py",
   "mimetype": "text/x-python",
   "name": "python",
   "nbconvert_exporter": "python",
   "pygments_lexer": "ipython3",
   "version": "3.7.4"
  }
 },
 "nbformat": 4,
 "nbformat_minor": 2
}
