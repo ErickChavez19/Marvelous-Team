{
 "cells": [
  {
   "cell_type": "code",
   "execution_count": 4,
   "metadata": {},
   "outputs": [
    {
     "name": "stdout",
     "output_type": "stream",
     "text": [
      "Good morning, Master.\n",
      "\n",
      "How was your sleep?\n",
      "\n",
      "(God: Please answer with Fine or Bad)\n",
      "\n",
      "Fine\n",
      "\n",
      "I'm glad to hear that. ^w^\n",
      "\n",
      "Do you want to eat breakfast now?\n",
      "\n",
      "(God: Please answer with Yes or No)\n",
      "\n",
      "Yes\n",
      "\n",
      "Okay, then let´s go to the kitchen.\n",
      "\n",
      "Hope you like scrambled eggs with bacon. ^w^\n",
      "\n",
      "You do, right? Owo\n",
      "\n",
      "(God: Please answer with Yes or No)\n",
      "\n",
      "No\n",
      "\n",
      "O-oh, sorry... I can cook you something else, tell me, what do you want to eat?\n",
      "\n",
      "Pizza\n",
      "\n",
      "Oh, so you want some Pizza, just give me a minute and I will serve it to you. ^w^\n",
      "\n",
      "<<A few minutes later>>\n",
      "\n",
      "Here you go, hope you will like it. :3\n",
      "\n",
      "Bon appétit.\n"
     ]
    }
   ],
   "source": [
    "import time\n",
    "print(\"Good morning, Master.\")\n",
    "time.sleep(2)\n",
    "print(\"\\nHow was your sleep?\")\n",
    "print(\"\\n(God: Please answer with Fine or Bad)\\n\")\n",
    "\n",
    "a = input()\n",
    "\n",
    "if a == \"Fine\":\n",
    "    time.sleep(2)\n",
    "    print(\"\\nI'm glad to hear that. ^w^\")\n",
    "elif a == \"Bad\":\n",
    "    time.sleep(2)\n",
    "    print(\"\\nI´m sorry to hear that... Ó.Ò\")\n",
    "    time.sleep(2)\n",
    "\n",
    "print(\"\\nDo you want to eat breakfast now?\") \n",
    "print(\"\\n(God: Please answer with Yes or No)\\n\")\n",
    "\n",
    "b = input()\n",
    "\n",
    "if b == \"Yes\":\n",
    "    print(\"\\nOkay, then let´s go to the kitchen.\")\n",
    "elif b == \"No\":\n",
    "    print(\"\\nMmm... okay, I'll let you rest for a few more minutes then.\")\n",
    "         \n",
    "time.sleep(2)\n",
    "print(\"\\nHope you like scrambled eggs with bacon. ^w^\")\n",
    "time.sleep(2)\n",
    "print(\"\\nYou do, right? Owo\")\n",
    "print(\"\\n(God: Please answer with Yes or No)\\n\")\n",
    "\n",
    "c = input()\n",
    "\n",
    "if c == \"Yes\":\n",
    "    print (\"\\nThanks god... I really hope it tastes good for you. :3\\n\")\n",
    "elif c == \"No\":\n",
    "    time.sleep(2)\n",
    "    print(\"\\nO-oh, sorry... I can cook you something else, tell me, what do you want to eat?\\n\")\n",
    "    d = input()\n",
    "    time.sleep(2)\n",
    "    print(f\"\\nOh, so you want some {d}, just give me a minute and I will serve it to you. ^w^\")\n",
    "    time.sleep(2)\n",
    "    print(\"\\n<<A few minutes later>>\")\n",
    "    time.sleep(2)\n",
    "    print(\"\\nHere you go, hope you will like it. :3\")\n",
    "    time.sleep(2)\n",
    "    \n",
    "print(\"\\nBon appétit.\")"
   ]
  },
  {
   "cell_type": "code",
   "execution_count": null,
   "metadata": {
    "collapsed": true
   },
   "outputs": [],
   "source": []
  }
 ],
 "metadata": {
  "kernelspec": {
   "display_name": "Python 3",
   "language": "python",
   "name": "python3"
  },
  "language_info": {
   "codemirror_mode": {
    "name": "ipython",
    "version": 3
   },
   "file_extension": ".py",
   "mimetype": "text/x-python",
   "name": "python",
   "nbconvert_exporter": "python",
   "pygments_lexer": "ipython3",
   "version": "3.7.4"
  }
 },
 "nbformat": 4,
 "nbformat_minor": 2
}
