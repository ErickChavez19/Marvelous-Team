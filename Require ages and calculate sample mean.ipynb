{
 "cells": [
  {
   "cell_type": "code",
   "execution_count": 10,
   "metadata": {},
   "outputs": [
    {
     "name": "stdout",
     "output_type": "stream",
     "text": [
      "Please, give me the first age, master.\n",
      "9\n",
      "Thank you, now, please provide me the second one.\n",
      "1\n",
      "Finally, I will need the third age.\n",
      "29\n",
      "Proccessing... Got it, here you have the sample mean of the data. OwO\n",
      "13.0\n",
      "I hope that I was useful for you ^w^\n"
     ]
    }
   ],
   "source": [
    "print(\"Please, give me the first age, master.\")\n",
    "age=int(input())\n",
    "print(\"Thank you, now, please provide me the second one.\")\n",
    "age1=int(input())\n",
    "print(\"Finally, I will need the third age.\")\n",
    "age2=int(input())\n",
    "print(\"Proccessing... Got it, here you have the sample mean of the data. OwO\")\n",
    "print((age + age1 + age2)/3)\n",
    "print(\"I hope that I was useful for you ^w^\")"
   ]
  },
  {
   "cell_type": "markdown",
   "metadata": {},
   "source": [
    "In this simple program, we applied the knowledge aquired in class for ask for some data and store it in a variable, at the same time that we submit the stored data into some mathematical operations, in order to obtain the sample mean of the information proportionated."
   ]
  }
 ],
 "metadata": {
  "kernelspec": {
   "display_name": "Python 3",
   "language": "python",
   "name": "python3"
  },
  "language_info": {
   "codemirror_mode": {
    "name": "ipython",
    "version": 3
   },
   "file_extension": ".py",
   "mimetype": "text/x-python",
   "name": "python",
   "nbconvert_exporter": "python",
   "pygments_lexer": "ipython3",
   "version": "3.7.4"
  }
 },
 "nbformat": 4,
 "nbformat_minor": 2
}
